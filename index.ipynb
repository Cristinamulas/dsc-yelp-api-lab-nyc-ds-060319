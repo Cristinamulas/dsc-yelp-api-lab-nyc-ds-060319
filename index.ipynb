{
 "cells": [
  {
   "cell_type": "markdown",
   "metadata": {},
   "source": [
    "# Yelp API - Lab\n",
    "\n",
    "\n",
    "## Introduction \n",
    "\n",
    "Now that we've seen how the Yelp API works and some basic Folium visualizations, it's time to put those skills to work in order to create a working map! Taking things a step further, you'll also independently explore how to perform pagination in order to retrieve a full results set from the Yelp API!\n",
    "\n",
    "## Objectives\n",
    "\n",
    "You will be able to: \n",
    "* Create HTTP requests to get data from Yelp API\n",
    "* Parse HTTP responses and perform data analysis on the data returned\n",
    "* Perform pagination to retrieve troves of data!\n",
    "* Create a simple geographical system on to view information about selected businesses, at a given location. \n",
    "\n",
    "## Problem Introduction\n",
    "\n",
    "You've now worked with some API calls, but we have yet to see how to retrieve a more complete dataset in a programmatic manner. Returning to the Yelp API, the [documentation](https://www.yelp.com/developers/documentation/v3/business_search) also provides us details regarding the API limits. These often include details about the number of requests a user is allowed to make within a specified time limit and the maximum number of results to be returned. In this case, we are told that any request has a maximum of 50 results per request and defaults to 20. Furthermore, any search will be limited to a total of 1000 results. To retrieve all 1000 of these results, we would have to page through the results piece by piece, retrieving 50 at a time. Processes such as these are often referred to as pagination.\n",
    "\n",
    "In this lab, you will define a search and then paginate over the results to retrieve all of the results. You'll then parse these responses as a DataFrame (for further exploration) and create a map using Folium to visualize the results geographically.\n",
    "\n",
    "## Part I - Make the Initial Request\n",
    "\n",
    "Start by making an initial request to the Yelp API. Your search must include at least 2 parameters: **term** and **location**. For example, you might search for pizza restaurants in NYC. The term and location is up to you, but make the request below."
   ]
  },
  {
   "cell_type": "code",
   "execution_count": 4,
   "metadata": {},
   "outputs": [],
   "source": [
    "import requests"
   ]
  },
  {
   "cell_type": "code",
   "execution_count": 5,
   "metadata": {},
   "outputs": [],
   "source": [
    "client_id = '5senwnEqxeH82m5OZ1q-NQ'\n",
    "api_key = '-nB2cny8cbRJi9JOddCcuIvQ26lCzDWo4EVhEqIZlQRqyFGicIT8p6ORE-KuDYs6uQJ3pX0ybaA9da-F_8Q_E2EZ63j_IDfdBUHtYnlyZila6D_taEuHBWnIyzISXXYx'"
   ]
  },
  {
   "cell_type": "code",
   "execution_count": 6,
   "metadata": {},
   "outputs": [],
   "source": [
    "url = 'https://api.yelp.com/v3/businesses/search'\n",
    "response = requests.get(url)"
   ]
  },
  {
   "cell_type": "code",
   "execution_count": null,
   "metadata": {},
   "outputs": [],
   "source": []
  },
  {
   "cell_type": "code",
   "execution_count": 10,
   "metadata": {},
   "outputs": [
    {
     "ename": "ModuleNotFoundError",
     "evalue": "No module named 'yelp'",
     "output_type": "error",
     "traceback": [
      "\u001b[0;31m\u001b[0m",
      "\u001b[0;31mModuleNotFoundError\u001b[0mTraceback (most recent call last)",
      "\u001b[0;32m<ipython-input-10-c95482efa592>\u001b[0m in \u001b[0;36m<module>\u001b[0;34m()\u001b[0m\n\u001b[0;32m----> 1\u001b[0;31m \u001b[0;32mfrom\u001b[0m \u001b[0myelp\u001b[0m\u001b[0;34m.\u001b[0m\u001b[0mclient\u001b[0m \u001b[0;32mimport\u001b[0m \u001b[0mClient\u001b[0m\u001b[0;34m\u001b[0m\u001b[0m\n\u001b[0m",
      "\u001b[0;31mModuleNotFoundError\u001b[0m: No module named 'yelp'"
     ]
    }
   ],
   "source": []
  },
  {
   "cell_type": "code",
   "execution_count": 11,
   "metadata": {},
   "outputs": [
    {
     "ename": "NameError",
     "evalue": "name 'Client' is not defined",
     "output_type": "error",
     "traceback": [
      "\u001b[0;31m\u001b[0m",
      "\u001b[0;31mNameError\u001b[0mTraceback (most recent call last)",
      "\u001b[0;32m<ipython-input-11-522ca5749d4b>\u001b[0m in \u001b[0;36m<module>\u001b[0;34m()\u001b[0m\n\u001b[1;32m      2\u001b[0m \u001b[0;34m\u001b[0m\u001b[0m\n\u001b[1;32m      3\u001b[0m \u001b[0mMY_API_KEY\u001b[0m \u001b[0;34m=\u001b[0m \u001b[0;34m\"-nB2cny8cbRJi9JOddCcuIvQ26lCzDWo4EVhEqIZlQRqyFGicIT8p6ORE-KuDYs6uQJ3pX0ybaA9da-F_8Q_E2EZ63j_IDfdBUHtYnlyZila6D_taEuHBWnIyzISXXYx\"\u001b[0m\u001b[0;34m\u001b[0m\u001b[0m\n\u001b[0;32m----> 4\u001b[0;31m \u001b[0mclient\u001b[0m \u001b[0;34m=\u001b[0m \u001b[0mClient\u001b[0m\u001b[0;34m(\u001b[0m\u001b[0mMY_API_KEY\u001b[0m\u001b[0;34m)\u001b[0m\u001b[0;34m\u001b[0m\u001b[0m\n\u001b[0m",
      "\u001b[0;31mNameError\u001b[0m: name 'Client' is not defined"
     ]
    }
   ],
   "source": []
  },
  {
   "cell_type": "code",
   "execution_count": 12,
   "metadata": {},
   "outputs": [
    {
     "name": "stdout",
     "output_type": "stream",
     "text": [
      "<Response [200]>\n",
      "<class 'str'>\n",
      "{\"businesses\": [{\"id\": \"lxQ-tzFmL1tmUqZUN-CSRQ\", \"alias\": \"bozu-brooklyn\", \"name\": \"Bozu\", \"image_url\": \"https://s3-media3.fl.yelpcdn.com/bphoto/2gAySXaCsEOyXQ4YfpR35w/o.jpg\", \"is_closed\": false, \"url\": \"https://www.yelp.com/biz/bozu-brooklyn?adjust_creative=QWmKp6NvwkIFdkx9db8P8Q&utm_campaign=yelp_api_v3&utm_medium=api_v3_business_search&utm_source=QWmKp6NvwkIFdkx9db8P8Q\", \"review_count\": 798, \"categories\": [{\"alias\": \"japanese\", \"title\": \"Japanese\"}, {\"alias\": \"asianfusion\", \"title\": \"Asian Fusion\"}], \"rating\": 4.0, \"coordinates\": {\"latitude\": 40.7129, \"longitude\": -73.95749}, \"transactions\": [], \"price\": \"$$\", \"location\": {\"address1\": \"296 Grand St\", \"address2\": \"\", \"address3\": \"\", \"city\": \"Brooklyn\", \"zip_code\": \"11211\", \"country\": \"US\", \"state\": \"NY\", \"display_address\": [\"296 Grand St\", \"Brooklyn, NY 11211\"]}, \"phone\": \"+17183847770\", \"display_phone\": \"(718) 384-7770\", \"distance\": 262.3456087628708}, {\"id\": \"T2fE7hGS83Ba-QNCOqbK4A\", \"alias\": \"ako-brooklyn-3\", \"name\": \"Ako\", \"image_url\": \"https://s3-media1.fl.yelpcdn.com/bphoto/6hhvs3btMDte1mvtBUyxuw/o.jpg\", \"is_closed\": false, \"url\": \"https://www.yelp.com/biz/ako-brooklyn-3?adjust_creative=QWmKp6NvwkIFdkx9db8P8Q&utm_campaign=yelp_api_v3&utm_medium=api_v3_business_search&utm_source=QWmKp6NvwkIFdkx9db8P8Q\", \"review_count\": 311, \"categories\": [{\"alias\": \"sushi\", \"title\": \"Sushi Bars\"}, {\"alias\": \"japanese\", \"title\": \"Japanese\"}, {\"alias\": \"wine_bars\", \"title\": \"Wine Bars\"}], \"rating\": 4.0, \"coordinates\": {\"latitude\": 40.7169049, \"longitude\": -73.9585858}, \"transactions\": [\"delivery\", \"pickup\"], \"price\": \"$$\", \"location\": {\"address1\": \"205 Bedford Ave\", \"address2\": \"\", \"address3\": \"\", \"city\": \"Brooklyn\", \"zip_code\": \"11211\", \"country\": \"US\", \"state\": \"NY\", \"display_address\": [\"205 Bedford Ave\", \"Brooklyn, NY 11211\"]}, \"phone\": \"+17183022035\", \"display_phone\": \"(718) 302-2035\", \"distance\": 641.1144173257692}, {\"id\": \"0nYfyel0UwlI1qXHOjTw0w\", \"alias\": \"musashi-asian-cuisine-brooklyn-2\", \"name\": \"Musashi Asian Cuisine\", \"image_url\": \"https://s3-media1.fl.yelpcdn.com/bphoto/_hwFFWIbmQaW5sDB8UH2aQ/o.jpg\", \"is_closed\": false, \"url\": \"https://www.yelp.com/biz/musashi-asian-cuisine-brooklyn-2?adjust_creative=QWmKp6NvwkIFdkx9db8P8Q&utm_campaign=yelp_api_v3&utm_medium=api_v3_business_search&utm_source=QWmKp6NvwkIFdkx9db8P8Q\", \"review_count\": 136, \"categories\": [{\"alias\": \"japanese\", \"title\": \"Japanese\"}, {\"alias\": \"sushi\", \"title\": \"Sushi Bars\"}, {\"alias\": \"asianfusion\", \"title\": \"Asian Fusion\"}], \"rating\": 4.5, \"coordinates\": {\"latitude\": 40.7111358642578, \"longitude\": -73.9514236450195}, \"transactions\": [\"delivery\", \"pickup\"], \"price\": \"$$\", \"location\": {\"address1\": \"495 Grand St\", \"address2\": null, \"address3\": \"\", \"city\": \"Brooklyn\", \"zip_code\": \"11211\", \"country\": \"US\", \"state\": \"NY\", \"display_address\": [\"495 Grand St\", \"Brooklyn, NY 11211\"]}, \"phone\": \"+17183885081\", \"display_phone\": \"(718) 388-5081\", \"distance\": 710.2070953816147}, {\"id\": \"ZaJS8EKQNSaQpwpmgN-vVw\", \"alias\": \"samurai-mama-brooklyn\", \"name\": \"Samurai Mama\", \"image_url\": \"https://s3-media1.fl.yelpcdn.com/bphoto/MnV0VJST6eTippAzpDaprA/o.jpg\", \"is_closed\": false, \"url\": \"https://www.yelp.com/biz/samurai-mama-brooklyn?adjust_creative=QWmKp6NvwkIFdkx9db8P8Q&utm_campaign=yelp_api_v3&utm_medium=api_v3_business_search&utm_source=QWmKp6NvwkIFdkx9db8P8Q\", \"review_count\": 566, \"categories\": [{\"alias\": \"japanese\", \"title\": \"Japanese\"}, {\"alias\": \"noodles\", \"title\": \"Noodles\"}], \"rating\": 4.0, \"coordinates\": {\"latitude\": 40.7140208838114, \"longitude\": -73.960325717926}, \"transactions\": [], \"price\": \"$$\", \"location\": {\"address1\": \"205 Grand St\", \"address2\": \"\", \"address3\": \"\", \"city\": \"Brooklyn\", \"zip_code\": \"11211\", \"country\": \"US\", \"state\": \"NY\", \"display_address\": [\"205 Grand St\", \"Brooklyn, NY 11211\"]}, \"phone\": \"+17185996161\", \"display_phone\": \"(718) 599-6161\", \"distance\": 313.459789168083}, {\"id\": \"m1cJLpDN4B-_0hGgPfe5OA\", \"alias\": \"salt-charcoal-brooklyn\", \"name\": \"Salt + Charcoal\", \"image_url\": \"https://s3-media3.fl.yelpcdn.com/bphoto/RDtbfJjYqtdpaKvTrRhh2A/o.jpg\", \"is_closed\": false, \"url\": \"https://www.yelp.com/biz/salt-charcoal-brooklyn?adjust_creative=QWmKp6NvwkIFdkx9db8P8Q&utm_campaign=yelp_api_v3&utm_medium=api_v3_business_search&utm_source=QWmKp6NvwkIFdkx9db8P8Q\", \"review_count\": 373, \"categories\": [{\"alias\": \"japanese\", \"title\": \"Japanese\"}, {\"alias\": \"asianfusion\", \"title\": \"Asian Fusion\"}, {\"alias\": \"steak\", \"title\": \"Steakhouses\"}], \"rating\": 4.0, \"coordinates\": {\"latitude\": 40.71453, \"longitude\": -73.9613511}, \"transactions\": [\"delivery\", \"pickup\", \"restaurant_reservation\"], \"price\": \"$$\", \"location\": {\"address1\": \"171 Grand St\", \"address2\": \"\", \"address3\": \"\", \"city\": \"Brooklyn\", \"zip_code\": \"11249\", \"country\": \"US\", \"state\": \"NY\", \"display_address\": [\"171 Grand St\", \"Brooklyn, NY 11249\"]}, \"phone\": \"+17187822087\", \"display_phone\": \"(718) 782-2087\", \"distance\": 388.23271918524256}, {\"id\": \"MM5P9cKlzovYLcf5qf2SwQ\", \"alias\": \"1-or-8-brooklyn\", \"name\": \"1 or 8\", \"image_url\": \"https://s3-media1.fl.yelpcdn.com/bphoto/vIKkMp3gOXFdEr7ct3cG6Q/o.jpg\", \"is_closed\": false, \"url\": \"https://www.yelp.com/biz/1-or-8-brooklyn?adjust_creative=QWmKp6NvwkIFdkx9db8P8Q&utm_campaign=yelp_api_v3&utm_medium=api_v3_business_search&utm_source=QWmKp6NvwkIFdkx9db8P8Q\", \"review_count\": 391, \"categories\": [{\"alias\": \"japanese\", \"title\": \"Japanese\"}, {\"alias\": \"sushi\", \"title\": \"Sushi Bars\"}, {\"alias\": \"bars\", \"title\": \"Bars\"}], \"rating\": 4.0, \"coordinates\": {\"latitude\": 40.714257, \"longitude\": -73.965457}, \"transactions\": [], \"price\": \"$$$\", \"location\": {\"address1\": \"66 S 2nd St\", \"address2\": \"\", \"address3\": \"\", \"city\": \"Brooklyn\", \"zip_code\": \"11249\", \"country\": \"US\", \"state\": \"NY\", \"display_address\": [\"66 S 2nd St\", \"Brooklyn, NY 11249\"]}, \"phone\": \"+17183842152\", \"display_phone\": \"(718) 384-2152\", \"distance\": 578.948601754848}, {\"id\": \"pGYovGGnxm0tMmkiQJPygA\", \"alias\": \"ume-williamsburg-brooklyn\", \"name\": \"Ume Williamsburg\", \"image_url\": \"https://s3-media1.fl.yelpcdn.com/bphoto/Xf4YxwWndOMp-5Ho_iJ6tg/o.jpg\", \"is_closed\": false, \"url\": \"https://www.yelp.com/biz/ume-williamsburg-brooklyn?adjust_creative=QWmKp6NvwkIFdkx9db8P8Q&utm_campaign=yelp_api_v3&utm_medium=api_v3_business_search&utm_source=QWmKp6NvwkIFdkx9db8P8Q\", \"review_count\": 110, \"categories\": [{\"alias\": \"sushi\", \"title\": \"Sushi Bars\"}], \"rating\": 4.0, \"coordinates\": {\"latitude\": 40.71657, \"longitude\": -73.96559}, \"transactions\": [], \"location\": {\"address1\": \"237 Kent Ave\", \"address2\": null, \"address3\": \"\", \"city\": \"Brooklyn\", \"zip_code\": \"11249\", \"country\": \"US\", \"state\": \"NY\", \"display_address\": [\"237 Kent Ave\", \"Brooklyn, NY 11249\"]}, \"phone\": \"+19294203253\", \"display_phone\": \"(929) 420-3253\", \"distance\": 756.634126122417}, {\"id\": \"wv3-eFVYUaZo3XybsSnDIg\", \"alias\": \"mizu-sushi-brooklyn-2\", \"name\": \"Mizu Sushi\", \"image_url\": \"https://s3-media1.fl.yelpcdn.com/bphoto/Fev17uott3AF_nsVDUqvcw/o.jpg\", \"is_closed\": false, \"url\": \"https://www.yelp.com/biz/mizu-sushi-brooklyn-2?adjust_creative=QWmKp6NvwkIFdkx9db8P8Q&utm_campaign=yelp_api_v3&utm_medium=api_v3_business_search&utm_source=QWmKp6NvwkIFdkx9db8P8Q\", \"review_count\": 163, \"categories\": [{\"alias\": \"japanese\", \"title\": \"Japanese\"}, {\"alias\": \"sushi\", \"title\": \"Sushi Bars\"}], \"rating\": 3.5, \"coordinates\": {\"latitude\": 40.7133185, \"longitude\": -73.9618969}, \"transactions\": [\"delivery\", \"pickup\"], \"price\": \"$$\", \"location\": {\"address1\": \"311 Bedford Ave\", \"address2\": null, \"address3\": \"\", \"city\": \"Brooklyn\", \"zip_code\": \"11211\", \"country\": \"US\", \"state\": \"NY\", \"display_address\": [\"311 Bedford Ave\", \"Brooklyn, NY 11211\"]}, \"phone\": \"+17187826666\", \"display_phone\": \"(718) 782-6666\", \"distance\": 288.70464839111776}, {\"id\": \"TZG0qTIGdeOtCkBrSU6v0Q\", \"alias\": \"minami-lounge-brooklyn\", \"name\": \"Minami Lounge\", \"image_url\": \"https://s3-media1.fl.yelpcdn.com/bphoto/bDECpLa89adXlMWDv1bK3w/o.jpg\", \"is_closed\": false, \"url\": \"https://www.yelp.com/biz/minami-lounge-brooklyn?adjust_creative=QWmKp6NvwkIFdkx9db8P8Q&utm_campaign=yelp_api_v3&utm_medium=api_v3_business_search&utm_source=QWmKp6NvwkIFdkx9db8P8Q\", \"review_count\": 40, \"categories\": [{\"alias\": \"sushi\", \"title\": \"Sushi Bars\"}, {\"alias\": \"lounges\", \"title\": \"Lounges\"}, {\"alias\": \"ramen\", \"title\": \"Ramen\"}], \"rating\": 4.5, \"coordinates\": {\"latitude\": 40.70937, \"longitude\": -73.95571}, \"transactions\": [\"delivery\", \"pickup\"], \"price\": \"$$\", \"location\": {\"address1\": \"299 S 4th St\", \"address2\": null, \"address3\": \"\", \"city\": \"Brooklyn\", \"zip_code\": \"11211\", \"country\": \"US\", \"state\": \"NY\", \"display_address\": [\"299 S 4th St\", \"Brooklyn, NY 11211\"]}, \"phone\": \"+19179091896\", \"display_phone\": \"(917) 909-1896\", \"distance\": 410.02809587043186}, {\"id\": \"M2bvOwAbCjLUvMbAF6h3-w\", \"alias\": \"sapporo-ichiban-brooklyn-2\", \"name\": \"Sapporo Ichiban\", \"image_url\": \"https://s3-media2.fl.yelpcdn.com/bphoto/V8dN6G5Tdzss6l3kc4CMGQ/o.jpg\", \"is_closed\": false, \"url\": \"https://www.yelp.com/biz/sapporo-ichiban-brooklyn-2?adjust_creative=QWmKp6NvwkIFdkx9db8P8Q&utm_campaign=yelp_api_v3&utm_medium=api_v3_business_search&utm_source=QWmKp6NvwkIFdkx9db8P8Q\", \"review_count\": 218, \"categories\": [{\"alias\": \"sushi\", \"title\": \"Sushi Bars\"}, {\"alias\": \"japanese\", \"title\": \"Japanese\"}], \"rating\": 4.0, \"coordinates\": {\"latitude\": 40.72365, \"longitude\": -73.95057}, \"transactions\": [\"delivery\", \"pickup\"], \"price\": \"$$\", \"location\": {\"address1\": \"622 Manhattan Ave\", \"address2\": \"\", \"address3\": \"\", \"city\": \"Brooklyn\", \"zip_code\": \"11222\", \"country\": \"US\", \"state\": \"NY\", \"display_address\": [\"622 Manhattan Ave\", \"Brooklyn, NY 11222\"]}, \"phone\": \"+17183899697\", \"display_phone\": \"(718) 389-9697\", \"distance\": 1589.812739728703}], \"total\": 142, \"region\": {\"center\": {\"longitude\": -73.95987510681152, \"latitude\": 40.711222637660526}}}\n"
     ]
    }
   ],
   "source": [
    "term = 'Sushi' # \n",
    "location = 'Williamsburg' # \n",
    "SEARCH_LIMIT = 10\n",
    "\n",
    "url = 'https://api.yelp.com/v3/businesses/search'\n",
    "\n",
    "headers = {\n",
    "        'Authorization': 'Bearer {}'.format(MY_API_KEY),\n",
    "    }\n",
    "\n",
    "url_params = {\n",
    "                'term': term.replace(' ', '+'),\n",
    "                'location': location.replace(' ', '+'),\n",
    "                'limit': SEARCH_LIMIT\n",
    "            }\n",
    "response = requests.get(url, headers=headers, params=url_params)\n",
    "print(response) # 200\n",
    "print(type(response.text)) # string jason format from here you have format using json\n",
    "print(response.text) # term these into a dataframe"
   ]
  },
  {
   "cell_type": "code",
   "execution_count": 15,
   "metadata": {},
   "outputs": [],
   "source": [
    "import json"
   ]
  },
  {
   "cell_type": "code",
   "execution_count": 16,
   "metadata": {},
   "outputs": [
    {
     "data": {
      "text/plain": [
       "[{'id': 'lxQ-tzFmL1tmUqZUN-CSRQ',\n",
       "  'alias': 'bozu-brooklyn',\n",
       "  'name': 'Bozu',\n",
       "  'image_url': 'https://s3-media3.fl.yelpcdn.com/bphoto/2gAySXaCsEOyXQ4YfpR35w/o.jpg',\n",
       "  'is_closed': False,\n",
       "  'url': 'https://www.yelp.com/biz/bozu-brooklyn?adjust_creative=QWmKp6NvwkIFdkx9db8P8Q&utm_campaign=yelp_api_v3&utm_medium=api_v3_business_search&utm_source=QWmKp6NvwkIFdkx9db8P8Q',\n",
       "  'review_count': 798,\n",
       "  'categories': [{'alias': 'japanese', 'title': 'Japanese'},\n",
       "   {'alias': 'asianfusion', 'title': 'Asian Fusion'}],\n",
       "  'rating': 4.0,\n",
       "  'coordinates': {'latitude': 40.7129, 'longitude': -73.95749},\n",
       "  'transactions': [],\n",
       "  'price': '$$',\n",
       "  'location': {'address1': '296 Grand St',\n",
       "   'address2': '',\n",
       "   'address3': '',\n",
       "   'city': 'Brooklyn',\n",
       "   'zip_code': '11211',\n",
       "   'country': 'US',\n",
       "   'state': 'NY',\n",
       "   'display_address': ['296 Grand St', 'Brooklyn, NY 11211']},\n",
       "  'phone': '+17183847770',\n",
       "  'display_phone': '(718) 384-7770',\n",
       "  'distance': 262.3456087628708},\n",
       " {'id': 'T2fE7hGS83Ba-QNCOqbK4A',\n",
       "  'alias': 'ako-brooklyn-3',\n",
       "  'name': 'Ako',\n",
       "  'image_url': 'https://s3-media1.fl.yelpcdn.com/bphoto/6hhvs3btMDte1mvtBUyxuw/o.jpg',\n",
       "  'is_closed': False,\n",
       "  'url': 'https://www.yelp.com/biz/ako-brooklyn-3?adjust_creative=QWmKp6NvwkIFdkx9db8P8Q&utm_campaign=yelp_api_v3&utm_medium=api_v3_business_search&utm_source=QWmKp6NvwkIFdkx9db8P8Q',\n",
       "  'review_count': 311,\n",
       "  'categories': [{'alias': 'sushi', 'title': 'Sushi Bars'},\n",
       "   {'alias': 'japanese', 'title': 'Japanese'},\n",
       "   {'alias': 'wine_bars', 'title': 'Wine Bars'}],\n",
       "  'rating': 4.0,\n",
       "  'coordinates': {'latitude': 40.7169049, 'longitude': -73.9585858},\n",
       "  'transactions': ['delivery', 'pickup'],\n",
       "  'price': '$$',\n",
       "  'location': {'address1': '205 Bedford Ave',\n",
       "   'address2': '',\n",
       "   'address3': '',\n",
       "   'city': 'Brooklyn',\n",
       "   'zip_code': '11211',\n",
       "   'country': 'US',\n",
       "   'state': 'NY',\n",
       "   'display_address': ['205 Bedford Ave', 'Brooklyn, NY 11211']},\n",
       "  'phone': '+17183022035',\n",
       "  'display_phone': '(718) 302-2035',\n",
       "  'distance': 641.1144173257692},\n",
       " {'id': '0nYfyel0UwlI1qXHOjTw0w',\n",
       "  'alias': 'musashi-asian-cuisine-brooklyn-2',\n",
       "  'name': 'Musashi Asian Cuisine',\n",
       "  'image_url': 'https://s3-media1.fl.yelpcdn.com/bphoto/_hwFFWIbmQaW5sDB8UH2aQ/o.jpg',\n",
       "  'is_closed': False,\n",
       "  'url': 'https://www.yelp.com/biz/musashi-asian-cuisine-brooklyn-2?adjust_creative=QWmKp6NvwkIFdkx9db8P8Q&utm_campaign=yelp_api_v3&utm_medium=api_v3_business_search&utm_source=QWmKp6NvwkIFdkx9db8P8Q',\n",
       "  'review_count': 136,\n",
       "  'categories': [{'alias': 'japanese', 'title': 'Japanese'},\n",
       "   {'alias': 'sushi', 'title': 'Sushi Bars'},\n",
       "   {'alias': 'asianfusion', 'title': 'Asian Fusion'}],\n",
       "  'rating': 4.5,\n",
       "  'coordinates': {'latitude': 40.7111358642578,\n",
       "   'longitude': -73.9514236450195},\n",
       "  'transactions': ['delivery', 'pickup'],\n",
       "  'price': '$$',\n",
       "  'location': {'address1': '495 Grand St',\n",
       "   'address2': None,\n",
       "   'address3': '',\n",
       "   'city': 'Brooklyn',\n",
       "   'zip_code': '11211',\n",
       "   'country': 'US',\n",
       "   'state': 'NY',\n",
       "   'display_address': ['495 Grand St', 'Brooklyn, NY 11211']},\n",
       "  'phone': '+17183885081',\n",
       "  'display_phone': '(718) 388-5081',\n",
       "  'distance': 710.2070953816147},\n",
       " {'id': 'ZaJS8EKQNSaQpwpmgN-vVw',\n",
       "  'alias': 'samurai-mama-brooklyn',\n",
       "  'name': 'Samurai Mama',\n",
       "  'image_url': 'https://s3-media1.fl.yelpcdn.com/bphoto/MnV0VJST6eTippAzpDaprA/o.jpg',\n",
       "  'is_closed': False,\n",
       "  'url': 'https://www.yelp.com/biz/samurai-mama-brooklyn?adjust_creative=QWmKp6NvwkIFdkx9db8P8Q&utm_campaign=yelp_api_v3&utm_medium=api_v3_business_search&utm_source=QWmKp6NvwkIFdkx9db8P8Q',\n",
       "  'review_count': 566,\n",
       "  'categories': [{'alias': 'japanese', 'title': 'Japanese'},\n",
       "   {'alias': 'noodles', 'title': 'Noodles'}],\n",
       "  'rating': 4.0,\n",
       "  'coordinates': {'latitude': 40.7140208838114, 'longitude': -73.960325717926},\n",
       "  'transactions': [],\n",
       "  'price': '$$',\n",
       "  'location': {'address1': '205 Grand St',\n",
       "   'address2': '',\n",
       "   'address3': '',\n",
       "   'city': 'Brooklyn',\n",
       "   'zip_code': '11211',\n",
       "   'country': 'US',\n",
       "   'state': 'NY',\n",
       "   'display_address': ['205 Grand St', 'Brooklyn, NY 11211']},\n",
       "  'phone': '+17185996161',\n",
       "  'display_phone': '(718) 599-6161',\n",
       "  'distance': 313.459789168083},\n",
       " {'id': 'm1cJLpDN4B-_0hGgPfe5OA',\n",
       "  'alias': 'salt-charcoal-brooklyn',\n",
       "  'name': 'Salt + Charcoal',\n",
       "  'image_url': 'https://s3-media3.fl.yelpcdn.com/bphoto/RDtbfJjYqtdpaKvTrRhh2A/o.jpg',\n",
       "  'is_closed': False,\n",
       "  'url': 'https://www.yelp.com/biz/salt-charcoal-brooklyn?adjust_creative=QWmKp6NvwkIFdkx9db8P8Q&utm_campaign=yelp_api_v3&utm_medium=api_v3_business_search&utm_source=QWmKp6NvwkIFdkx9db8P8Q',\n",
       "  'review_count': 373,\n",
       "  'categories': [{'alias': 'japanese', 'title': 'Japanese'},\n",
       "   {'alias': 'asianfusion', 'title': 'Asian Fusion'},\n",
       "   {'alias': 'steak', 'title': 'Steakhouses'}],\n",
       "  'rating': 4.0,\n",
       "  'coordinates': {'latitude': 40.71453, 'longitude': -73.9613511},\n",
       "  'transactions': ['delivery', 'pickup', 'restaurant_reservation'],\n",
       "  'price': '$$',\n",
       "  'location': {'address1': '171 Grand St',\n",
       "   'address2': '',\n",
       "   'address3': '',\n",
       "   'city': 'Brooklyn',\n",
       "   'zip_code': '11249',\n",
       "   'country': 'US',\n",
       "   'state': 'NY',\n",
       "   'display_address': ['171 Grand St', 'Brooklyn, NY 11249']},\n",
       "  'phone': '+17187822087',\n",
       "  'display_phone': '(718) 782-2087',\n",
       "  'distance': 388.23271918524256},\n",
       " {'id': 'MM5P9cKlzovYLcf5qf2SwQ',\n",
       "  'alias': '1-or-8-brooklyn',\n",
       "  'name': '1 or 8',\n",
       "  'image_url': 'https://s3-media1.fl.yelpcdn.com/bphoto/vIKkMp3gOXFdEr7ct3cG6Q/o.jpg',\n",
       "  'is_closed': False,\n",
       "  'url': 'https://www.yelp.com/biz/1-or-8-brooklyn?adjust_creative=QWmKp6NvwkIFdkx9db8P8Q&utm_campaign=yelp_api_v3&utm_medium=api_v3_business_search&utm_source=QWmKp6NvwkIFdkx9db8P8Q',\n",
       "  'review_count': 391,\n",
       "  'categories': [{'alias': 'japanese', 'title': 'Japanese'},\n",
       "   {'alias': 'sushi', 'title': 'Sushi Bars'},\n",
       "   {'alias': 'bars', 'title': 'Bars'}],\n",
       "  'rating': 4.0,\n",
       "  'coordinates': {'latitude': 40.714257, 'longitude': -73.965457},\n",
       "  'transactions': [],\n",
       "  'price': '$$$',\n",
       "  'location': {'address1': '66 S 2nd St',\n",
       "   'address2': '',\n",
       "   'address3': '',\n",
       "   'city': 'Brooklyn',\n",
       "   'zip_code': '11249',\n",
       "   'country': 'US',\n",
       "   'state': 'NY',\n",
       "   'display_address': ['66 S 2nd St', 'Brooklyn, NY 11249']},\n",
       "  'phone': '+17183842152',\n",
       "  'display_phone': '(718) 384-2152',\n",
       "  'distance': 578.948601754848},\n",
       " {'id': 'pGYovGGnxm0tMmkiQJPygA',\n",
       "  'alias': 'ume-williamsburg-brooklyn',\n",
       "  'name': 'Ume Williamsburg',\n",
       "  'image_url': 'https://s3-media1.fl.yelpcdn.com/bphoto/Xf4YxwWndOMp-5Ho_iJ6tg/o.jpg',\n",
       "  'is_closed': False,\n",
       "  'url': 'https://www.yelp.com/biz/ume-williamsburg-brooklyn?adjust_creative=QWmKp6NvwkIFdkx9db8P8Q&utm_campaign=yelp_api_v3&utm_medium=api_v3_business_search&utm_source=QWmKp6NvwkIFdkx9db8P8Q',\n",
       "  'review_count': 110,\n",
       "  'categories': [{'alias': 'sushi', 'title': 'Sushi Bars'}],\n",
       "  'rating': 4.0,\n",
       "  'coordinates': {'latitude': 40.71657, 'longitude': -73.96559},\n",
       "  'transactions': [],\n",
       "  'location': {'address1': '237 Kent Ave',\n",
       "   'address2': None,\n",
       "   'address3': '',\n",
       "   'city': 'Brooklyn',\n",
       "   'zip_code': '11249',\n",
       "   'country': 'US',\n",
       "   'state': 'NY',\n",
       "   'display_address': ['237 Kent Ave', 'Brooklyn, NY 11249']},\n",
       "  'phone': '+19294203253',\n",
       "  'display_phone': '(929) 420-3253',\n",
       "  'distance': 756.634126122417},\n",
       " {'id': 'wv3-eFVYUaZo3XybsSnDIg',\n",
       "  'alias': 'mizu-sushi-brooklyn-2',\n",
       "  'name': 'Mizu Sushi',\n",
       "  'image_url': 'https://s3-media1.fl.yelpcdn.com/bphoto/Fev17uott3AF_nsVDUqvcw/o.jpg',\n",
       "  'is_closed': False,\n",
       "  'url': 'https://www.yelp.com/biz/mizu-sushi-brooklyn-2?adjust_creative=QWmKp6NvwkIFdkx9db8P8Q&utm_campaign=yelp_api_v3&utm_medium=api_v3_business_search&utm_source=QWmKp6NvwkIFdkx9db8P8Q',\n",
       "  'review_count': 163,\n",
       "  'categories': [{'alias': 'japanese', 'title': 'Japanese'},\n",
       "   {'alias': 'sushi', 'title': 'Sushi Bars'}],\n",
       "  'rating': 3.5,\n",
       "  'coordinates': {'latitude': 40.7133185, 'longitude': -73.9618969},\n",
       "  'transactions': ['delivery', 'pickup'],\n",
       "  'price': '$$',\n",
       "  'location': {'address1': '311 Bedford Ave',\n",
       "   'address2': None,\n",
       "   'address3': '',\n",
       "   'city': 'Brooklyn',\n",
       "   'zip_code': '11211',\n",
       "   'country': 'US',\n",
       "   'state': 'NY',\n",
       "   'display_address': ['311 Bedford Ave', 'Brooklyn, NY 11211']},\n",
       "  'phone': '+17187826666',\n",
       "  'display_phone': '(718) 782-6666',\n",
       "  'distance': 288.70464839111776},\n",
       " {'id': 'TZG0qTIGdeOtCkBrSU6v0Q',\n",
       "  'alias': 'minami-lounge-brooklyn',\n",
       "  'name': 'Minami Lounge',\n",
       "  'image_url': 'https://s3-media1.fl.yelpcdn.com/bphoto/bDECpLa89adXlMWDv1bK3w/o.jpg',\n",
       "  'is_closed': False,\n",
       "  'url': 'https://www.yelp.com/biz/minami-lounge-brooklyn?adjust_creative=QWmKp6NvwkIFdkx9db8P8Q&utm_campaign=yelp_api_v3&utm_medium=api_v3_business_search&utm_source=QWmKp6NvwkIFdkx9db8P8Q',\n",
       "  'review_count': 40,\n",
       "  'categories': [{'alias': 'sushi', 'title': 'Sushi Bars'},\n",
       "   {'alias': 'lounges', 'title': 'Lounges'},\n",
       "   {'alias': 'ramen', 'title': 'Ramen'}],\n",
       "  'rating': 4.5,\n",
       "  'coordinates': {'latitude': 40.70937, 'longitude': -73.95571},\n",
       "  'transactions': ['delivery', 'pickup'],\n",
       "  'price': '$$',\n",
       "  'location': {'address1': '299 S 4th St',\n",
       "   'address2': None,\n",
       "   'address3': '',\n",
       "   'city': 'Brooklyn',\n",
       "   'zip_code': '11211',\n",
       "   'country': 'US',\n",
       "   'state': 'NY',\n",
       "   'display_address': ['299 S 4th St', 'Brooklyn, NY 11211']},\n",
       "  'phone': '+19179091896',\n",
       "  'display_phone': '(917) 909-1896',\n",
       "  'distance': 410.02809587043186},\n",
       " {'id': 'M2bvOwAbCjLUvMbAF6h3-w',\n",
       "  'alias': 'sapporo-ichiban-brooklyn-2',\n",
       "  'name': 'Sapporo Ichiban',\n",
       "  'image_url': 'https://s3-media2.fl.yelpcdn.com/bphoto/V8dN6G5Tdzss6l3kc4CMGQ/o.jpg',\n",
       "  'is_closed': False,\n",
       "  'url': 'https://www.yelp.com/biz/sapporo-ichiban-brooklyn-2?adjust_creative=QWmKp6NvwkIFdkx9db8P8Q&utm_campaign=yelp_api_v3&utm_medium=api_v3_business_search&utm_source=QWmKp6NvwkIFdkx9db8P8Q',\n",
       "  'review_count': 218,\n",
       "  'categories': [{'alias': 'sushi', 'title': 'Sushi Bars'},\n",
       "   {'alias': 'japanese', 'title': 'Japanese'}],\n",
       "  'rating': 4.0,\n",
       "  'coordinates': {'latitude': 40.72365, 'longitude': -73.95057},\n",
       "  'transactions': ['delivery', 'pickup'],\n",
       "  'price': '$$',\n",
       "  'location': {'address1': '622 Manhattan Ave',\n",
       "   'address2': '',\n",
       "   'address3': '',\n",
       "   'city': 'Brooklyn',\n",
       "   'zip_code': '11222',\n",
       "   'country': 'US',\n",
       "   'state': 'NY',\n",
       "   'display_address': ['622 Manhattan Ave', 'Brooklyn, NY 11222']},\n",
       "  'phone': '+17183899697',\n",
       "  'display_phone': '(718) 389-9697',\n",
       "  'distance': 1589.812739728703}]"
      ]
     },
     "execution_count": 16,
     "metadata": {},
     "output_type": "execute_result"
    }
   ],
   "source": [
    "\n",
    "shusi_yelp = json.loads(response.text)\n",
    "shusi_yelp['businesses']"
   ]
  },
  {
   "cell_type": "markdown",
   "metadata": {},
   "source": [
    "## Pagination\n",
    "\n",
    "Now that you have an initial response, you can examine the contents of the json container. For example, you might start with ```response.json().keys()```. Here, you'll see a key for `'total'`, which tells you the full number of matching results given your query parameters. Write a loop (or ideally a function) which then makes successive API calls using the offset parameter to retrieve all of the results (or 5000 for a particularly large result set) for the original query. As you do this, be mindful of how you store the data. Your final goal will be to reformat the data concerning the businesses themselves into a pandas DataFrame from the json objects.\n",
    "\n",
    "**Note: be mindful of the API rate limits. You can only make 5000 requests per day, and are also can make requests too fast. Start prototyping small before running a loop that could be faulty. You can also use time.sleep(n) to add delays. For more details see https://www.yelp.com/developers/documentation/v3/rate_limiting.**"
   ]
  },
  {
   "cell_type": "code",
   "execution_count": 26,
   "metadata": {},
   "outputs": [
    {
     "data": {
      "text/plain": [
       "{'id': 'lxQ-tzFmL1tmUqZUN-CSRQ',\n",
       " 'alias': 'bozu-brooklyn',\n",
       " 'name': 'Bozu',\n",
       " 'image_url': 'https://s3-media3.fl.yelpcdn.com/bphoto/2gAySXaCsEOyXQ4YfpR35w/o.jpg',\n",
       " 'is_closed': False,\n",
       " 'url': 'https://www.yelp.com/biz/bozu-brooklyn?adjust_creative=QWmKp6NvwkIFdkx9db8P8Q&utm_campaign=yelp_api_v3&utm_medium=api_v3_business_search&utm_source=QWmKp6NvwkIFdkx9db8P8Q',\n",
       " 'review_count': 798,\n",
       " 'categories': [{'alias': 'japanese', 'title': 'Japanese'},\n",
       "  {'alias': 'asianfusion', 'title': 'Asian Fusion'}],\n",
       " 'rating': 4.0,\n",
       " 'coordinates': {'latitude': 40.7129, 'longitude': -73.95749},\n",
       " 'transactions': [],\n",
       " 'price': '$$',\n",
       " 'location': {'address1': '296 Grand St',\n",
       "  'address2': '',\n",
       "  'address3': '',\n",
       "  'city': 'Brooklyn',\n",
       "  'zip_code': '11211',\n",
       "  'country': 'US',\n",
       "  'state': 'NY',\n",
       "  'display_address': ['296 Grand St', 'Brooklyn, NY 11211']},\n",
       " 'phone': '+17183847770',\n",
       " 'display_phone': '(718) 384-7770',\n",
       " 'distance': 262.3456087628708}"
      ]
     },
     "execution_count": 26,
     "metadata": {},
     "output_type": "execute_result"
    }
   ],
   "source": [
    "# Your code here; use a functio\n",
    "response.json().keys()\n",
    "\n",
    "shusi_yelp['total']\n",
    "shusi_yelp['businesses'][0]\n",
    "#n or loop to retrieve all the results from your original request"
   ]
  },
  {
   "cell_type": "code",
   "execution_count": 23,
   "metadata": {},
   "outputs": [
    {
     "name": "stdout",
     "output_type": "stream",
     "text": [
      "businesses\n",
      "total\n",
      "region\n"
     ]
    }
   ],
   "source": [
    "for item in shusi_yelp.keys():\n",
    "    print(item)"
   ]
  },
  {
   "cell_type": "code",
   "execution_count": 30,
   "metadata": {},
   "outputs": [
    {
     "name": "stdout",
     "output_type": "stream",
     "text": [
      "b\n",
      "u\n",
      "s\n",
      "i\n",
      "n\n",
      "e\n",
      "s\n",
      "s\n",
      "e\n",
      "s\n",
      "t\n",
      "o\n",
      "t\n",
      "a\n",
      "l\n",
      "r\n",
      "e\n",
      "g\n",
      "i\n",
      "o\n",
      "n\n"
     ]
    }
   ],
   "source": [
    "for k , v in shusi_yelp.items():\n",
    "    for i in k:\n",
    "        print(i)"
   ]
  },
  {
   "cell_type": "markdown",
   "metadata": {},
   "source": [
    "## Exploratory Analysis\n",
    "\n",
    "Take the restaurants from the previous question and do an initial exploratory analysis. At minimum, this should include looking at the distribution of features such as price, rating and number of reviews as well as the relations between these dimensions."
   ]
  },
  {
   "cell_type": "code",
   "execution_count": null,
   "metadata": {},
   "outputs": [],
   "source": [
    "#Your code here"
   ]
  },
  {
   "cell_type": "markdown",
   "metadata": {},
   "source": [
    "## Mapping\n",
    "\n",
    "Look at the initial Yelp example and try and make a map using Folium of the restaurants you retrieved. Be sure to also add popups to the markers giving some basic information such as name, rating and price."
   ]
  },
  {
   "cell_type": "code",
   "execution_count": null,
   "metadata": {},
   "outputs": [],
   "source": [
    "#Your code here"
   ]
  },
  {
   "cell_type": "markdown",
   "metadata": {},
   "source": [
    "## Summary\n",
    "\n",
    "Nice work! In this lab, you synthesized your skills for the day, making multiple API calls to Yelp in order to paginate through a results set, performing some basic exploratory analysis and then creating a nice map visual to display the results! Well done!"
   ]
  }
 ],
 "metadata": {
  "kernelspec": {
   "display_name": "Python 3",
   "language": "python",
   "name": "python3"
  },
  "language_info": {
   "codemirror_mode": {
    "name": "ipython",
    "version": 3
   },
   "file_extension": ".py",
   "mimetype": "text/x-python",
   "name": "python",
   "nbconvert_exporter": "python",
   "pygments_lexer": "ipython3",
   "version": "3.6.6"
  }
 },
 "nbformat": 4,
 "nbformat_minor": 2
}
